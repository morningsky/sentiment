{
 "cells": [
  {
   "cell_type": "code",
   "execution_count": 1,
   "metadata": {},
   "outputs": [],
   "source": [
    "import numpy as np\n",
    "import pandas as pd\n",
    "\n",
    "pos = pd.read_excel('./data/pos.xls', header=None)\n",
    "pos['label'] = 1\n",
    "neg = pd.read_excel('./data/neg.xls', header=None)\n",
    "neg['label'] = 0\n",
    "all_ = pos.append(neg, ignore_index=True)"
   ]
  },
  {
   "cell_type": "code",
   "execution_count": 51,
   "metadata": {},
   "outputs": [
    {
     "data": {
      "text/plain": [
       "10677"
      ]
     },
     "execution_count": 51,
     "metadata": {},
     "output_type": "execute_result"
    }
   ],
   "source": [
    "len(pos)"
   ]
  },
  {
   "cell_type": "code",
   "execution_count": 50,
   "metadata": {},
   "outputs": [
    {
     "data": {
      "text/plain": [
       "10428"
      ]
     },
     "execution_count": 50,
     "metadata": {},
     "output_type": "execute_result"
    }
   ],
   "source": [
    "len(neg)"
   ]
  },
  {
   "cell_type": "code",
   "execution_count": 7,
   "metadata": {},
   "outputs": [
    {
     "name": "stderr",
     "output_type": "stream",
     "text": [
      "Building prefix dict from the default dictionary ...\n",
      "Loading model from cache C:\\Users\\DELL\\AppData\\Local\\Temp\\jieba.cache\n",
      "Loading model cost 0.572 seconds.\n",
      "Prefix dict has been built succesfully.\n"
     ]
    },
    {
     "data": {
      "text/html": [
       "<div>\n",
       "<style scoped>\n",
       "    .dataframe tbody tr th:only-of-type {\n",
       "        vertical-align: middle;\n",
       "    }\n",
       "\n",
       "    .dataframe tbody tr th {\n",
       "        vertical-align: top;\n",
       "    }\n",
       "\n",
       "    .dataframe thead th {\n",
       "        text-align: right;\n",
       "    }\n",
       "</style>\n",
       "<table border=\"1\" class=\"dataframe\">\n",
       "  <thead>\n",
       "    <tr style=\"text-align: right;\">\n",
       "      <th></th>\n",
       "      <th>0</th>\n",
       "      <th>label</th>\n",
       "      <th>words</th>\n",
       "    </tr>\n",
       "  </thead>\n",
       "  <tbody>\n",
       "    <tr>\n",
       "      <th>0</th>\n",
       "      <td>做父母一定要有刘墉这样的心态，不断地学习，不断地进步，不断地给自己补充新鲜血液，让自己保持一...</td>\n",
       "      <td>1</td>\n",
       "      <td>[做, 父母, 一定, 要, 有, 刘墉, 这样, 的, 心态, ，, 不断, 地, 学习,...</td>\n",
       "    </tr>\n",
       "    <tr>\n",
       "      <th>1</th>\n",
       "      <td>作者真有英国人严谨的风格，提出观点、进行论述论证，尽管本人对物理学了解不深，但是仍然能感受到...</td>\n",
       "      <td>1</td>\n",
       "      <td>[作者, 真有, 英国人, 严谨, 的, 风格, ，, 提出, 观点, 、, 进行, 论述,...</td>\n",
       "    </tr>\n",
       "    <tr>\n",
       "      <th>2</th>\n",
       "      <td>作者长篇大论借用详细报告数据处理工作和计算结果支持其新观点。为什么荷兰曾经县有欧洲最高的生产...</td>\n",
       "      <td>1</td>\n",
       "      <td>[作者, 长篇大论, 借用, 详细, 报告, 数据处理, 工作, 和, 计算结果, 支持, ...</td>\n",
       "    </tr>\n",
       "    <tr>\n",
       "      <th>3</th>\n",
       "      <td>作者在战几时之前用了＂拥抱＂令人叫绝．日本如果没有战败，就有会有美军的占领，没胡官僚主义的延...</td>\n",
       "      <td>1</td>\n",
       "      <td>[作者, 在, 战, 几时, 之前, 用, 了, ＂, 拥抱, ＂, 令人, 叫绝, ．, ...</td>\n",
       "    </tr>\n",
       "    <tr>\n",
       "      <th>4</th>\n",
       "      <td>作者在少年时即喜阅读，能看出他精读了无数经典，因而他有一个庞大的内心世界。他的作品最难能可贵...</td>\n",
       "      <td>1</td>\n",
       "      <td>[作者, 在, 少年, 时即, 喜, 阅读, ，, 能, 看出, 他, 精读, 了, 无数,...</td>\n",
       "    </tr>\n",
       "  </tbody>\n",
       "</table>\n",
       "</div>"
      ],
      "text/plain": [
       "                                                   0  label  \\\n",
       "0  做父母一定要有刘墉这样的心态，不断地学习，不断地进步，不断地给自己补充新鲜血液，让自己保持一...      1   \n",
       "1  作者真有英国人严谨的风格，提出观点、进行论述论证，尽管本人对物理学了解不深，但是仍然能感受到...      1   \n",
       "2  作者长篇大论借用详细报告数据处理工作和计算结果支持其新观点。为什么荷兰曾经县有欧洲最高的生产...      1   \n",
       "3  作者在战几时之前用了＂拥抱＂令人叫绝．日本如果没有战败，就有会有美军的占领，没胡官僚主义的延...      1   \n",
       "4  作者在少年时即喜阅读，能看出他精读了无数经典，因而他有一个庞大的内心世界。他的作品最难能可贵...      1   \n",
       "\n",
       "                                               words  \n",
       "0  [做, 父母, 一定, 要, 有, 刘墉, 这样, 的, 心态, ，, 不断, 地, 学习,...  \n",
       "1  [作者, 真有, 英国人, 严谨, 的, 风格, ，, 提出, 观点, 、, 进行, 论述,...  \n",
       "2  [作者, 长篇大论, 借用, 详细, 报告, 数据处理, 工作, 和, 计算结果, 支持, ...  \n",
       "3  [作者, 在, 战, 几时, 之前, 用, 了, ＂, 拥抱, ＂, 令人, 叫绝, ．, ...  \n",
       "4  [作者, 在, 少年, 时即, 喜, 阅读, ，, 能, 看出, 他, 精读, 了, 无数,...  "
      ]
     },
     "execution_count": 7,
     "metadata": {},
     "output_type": "execute_result"
    }
   ],
   "source": [
    "import jieba\n",
    "all_['words'] = all_[0].apply(lambda s: list(jieba.cut(s))) #调用结巴分词\n",
    "all_.head()"
   ]
  },
  {
   "cell_type": "code",
   "execution_count": 10,
   "metadata": {},
   "outputs": [],
   "source": [
    "maxlen = 100 #截断字数\n",
    "min_count = 5 #出现次数少于该值的词扔掉。这是最简单的降维方法\n",
    "content = []\n",
    "for i in all_['words']:\n",
    "    content.extend(i)"
   ]
  },
  {
   "cell_type": "code",
   "execution_count": 11,
   "metadata": {},
   "outputs": [],
   "source": [
    "abc = pd.Series(content).value_counts()\n",
    "abc = abc[abc >= min_count]\n",
    "abc[:] = list(range(1, len(abc)+1))\n",
    "abc[''] = 0 #添加空字符串用来补全\n",
    "word_set = set(abc.index)"
   ]
  },
  {
   "cell_type": "code",
   "execution_count": 36,
   "metadata": {},
   "outputs": [],
   "source": [
    "def doc2num(s, maxlen): \n",
    "    s = [i for i in s if i in word_set]\n",
    "    #s = s[:maxlen] + ['']*max(0, maxlen-len(s)) #不足maxlen个词的后面补充空格 89%准确率\n",
    "    s = ['']*max(0, maxlen-len(s)) + s[-maxlen:]  #取后面90%准确率\n",
    "    return list(abc[s])"
   ]
  },
  {
   "cell_type": "code",
   "execution_count": 37,
   "metadata": {},
   "outputs": [],
   "source": [
    "all_['doc2num'] = all_['words'].apply(lambda s: doc2num(s, maxlen))"
   ]
  },
  {
   "cell_type": "code",
   "execution_count": 39,
   "metadata": {},
   "outputs": [],
   "source": [
    "#手动打乱数据\n",
    "idx = list(range(len(all_)))\n",
    "np.random.shuffle(idx)\n",
    "all_ = all_.loc[idx]"
   ]
  },
  {
   "cell_type": "code",
   "execution_count": 40,
   "metadata": {},
   "outputs": [],
   "source": [
    "#按keras的输入要求来生成数据\n",
    "x = np.array(list(all_['doc2num']))\n",
    "y = np.array(list(all_['label']))\n"
   ]
  },
  {
   "cell_type": "code",
   "execution_count": 132,
   "metadata": {},
   "outputs": [],
   "source": [
    "import keras\n",
    "import matplotlib.pyplot as plt\n",
    "class LossHistory(keras.callbacks.Callback):\n",
    "    def on_train_begin(self, logs={}):\n",
    "        self.losses = {'batch':[], 'epoch':[]}\n",
    "        self.accuracy = {'batch':[], 'epoch':[]}\n",
    "        self.val_loss = {'batch':[], 'epoch':[]}\n",
    "        self.val_acc = {'batch':[], 'epoch':[]}\n",
    "\n",
    "    def on_batch_end(self, batch, logs={}):\n",
    "        self.losses['batch'].append(logs.get('loss'))\n",
    "        self.accuracy['batch'].append(logs.get('acc'))\n",
    "        self.val_loss['batch'].append(logs.get('val_loss'))\n",
    "        self.val_acc['batch'].append(logs.get('val_acc'))\n",
    "\n",
    "    def on_epoch_end(self, batch, logs={}):\n",
    "        self.losses['epoch'].append(logs.get('loss'))\n",
    "        self.accuracy['epoch'].append(logs.get('acc'))\n",
    "        self.val_loss['epoch'].append(logs.get('val_loss'))\n",
    "        self.val_acc['epoch'].append(logs.get('val_acc'))\n",
    "\n",
    "    def loss_plot(self, loss_type):\n",
    "        iters = range(len(self.losses[loss_type]))\n",
    "        plt.figure()\n",
    "        # acc\n",
    "        plt.plot(iters, self.accuracy[loss_type], 'r', label='train acc')\n",
    "        # loss\n",
    "        plt.plot(iters, self.losses[loss_type], 'g', label='train loss')\n",
    "        if loss_type == 'epoch':\n",
    "            # val_acc\n",
    "            plt.plot(iters, self.val_acc[loss_type], 'b', label='val acc')\n",
    "            # val_loss\n",
    "            plt.plot(iters, self.val_loss[loss_type], 'k', label='val loss')\n",
    "        plt.grid(True)\n",
    "        plt.xlabel(loss_type)\n",
    "        plt.ylabel('acc-loss')\n",
    "        plt.legend(loc=\"upper right\")\n",
    "        plt.show()"
   ]
  },
  {
   "cell_type": "code",
   "execution_count": 152,
   "metadata": {},
   "outputs": [
    {
     "name": "stderr",
     "output_type": "stream",
     "text": [
      "D:\\ProgramData\\Anaconda3\\lib\\site-packages\\keras\\models.py:942: UserWarning: The `nb_epoch` argument in `fit` has been renamed `epochs`.\n",
      "  warnings.warn('The `nb_epoch` argument in `fit` '\n"
     ]
    },
    {
     "name": "stdout",
     "output_type": "stream",
     "text": [
      "Train on 15000 samples, validate on 6105 samples\n",
      "Epoch 1/2\n",
      "15000/15000 [==============================] - 48s 3ms/step - loss: 0.1856 - mean_squared_error: 0.1856 - val_loss: 0.1033 - val_mean_squared_error: 0.1033\n",
      "Epoch 2/2\n",
      "15000/15000 [==============================] - 48s 3ms/step - loss: 0.0761 - mean_squared_error: 0.0761 - val_loss: 0.0817 - val_mean_squared_error: 0.0817\n",
      "6105/6105 [==============================] - 5s 764us/step\n"
     ]
    },
    {
     "data": {
      "text/plain": [
       "[0.08167139836186565, 0.08167139836186565]"
      ]
     },
     "execution_count": 152,
     "metadata": {},
     "output_type": "execute_result"
    }
   ],
   "source": [
    "from keras.models import Sequential\n",
    "from keras.layers import Dense, Activation, Dropout, Embedding\n",
    "from keras.layers import LSTM\n",
    "\n",
    "#建立模型\n",
    "model = Sequential()\n",
    "model.add(Embedding(len(abc), 256, input_length=maxlen))\n",
    "model.add(LSTM(128))\n",
    "model.add(Dropout(0.5))\n",
    "model.add(Dense(1))\n",
    "model.add(Activation('sigmoid'))\n",
    "model.compile(loss='binary_crossentropy',\n",
    "              optimizer='adam',\n",
    "              metrics=['accuracy'])\n",
    "\n",
    "batch_size = 128\n",
    "train_num = 15000\n",
    "history = LossHistory()\n",
    "his = model.fit(x[:train_num], y[:train_num], batch_size = batch_size, nb_epoch=2, validation_data=(x[train_num:], y[train_num:]),callbacks=[history])\n",
    "model.evaluate(x[train_num:], y[train_num:], batch_size = batch_size)"
   ]
  },
  {
   "cell_type": "code",
   "execution_count": 148,
   "metadata": {},
   "outputs": [
    {
     "data": {
      "image/png": "[encoded data removed]",
      "text/plain": [
       "<matplotlib.figure.Figure at 0x22d122b3048>"
      ]
     },
     "metadata": {},
     "output_type": "display_data"
    }
   ],
   "source": [
    "history.loss_plot('epoch')"
   ]
  },
  {
   "cell_type": "code",
   "execution_count": 146,
   "metadata": {},
   "outputs": [
    {
     "data": {
      "image/png": "[encoded data removed]",
      "text/plain": [
       "<matplotlib.figure.Figure at 0x22d09eebc88>"
      ]
     },
     "metadata": {},
     "output_type": "display_data"
    }
   ],
   "source": [
    "history.loss_plot('epoch')"
   ]
  },
  {
   "cell_type": "code",
   "execution_count": 137,
   "metadata": {},
   "outputs": [
    {
     "data": {
      "image/png": "[encoded data removed]",
      "text/plain": [
       "<matplotlib.figure.Figure at 0x22c9b09aba8>"
      ]
     },
     "metadata": {},
     "output_type": "display_data"
    }
   ],
   "source": [
    "history.loss_plot('epoch')"
   ]
  },
  {
   "cell_type": "code",
   "execution_count": 142,
   "metadata": {},
   "outputs": [
    {
     "data": {
      "image/png": "[encoded data removed]",
      "text/plain": [
       "<matplotlib.figure.Figure at 0x22cf15c3550>"
      ]
     },
     "metadata": {},
     "output_type": "display_data"
    }
   ],
   "source": [
    "history.loss_plot('epoch')"
   ]
  },
  {
   "cell_type": "code",
   "execution_count": 122,
   "metadata": {},
   "outputs": [
    {
     "name": "stdout",
     "output_type": "stream",
     "text": [
      "_________________________________________________________________\n",
      "Layer (type)                 Output Shape              Param #   \n",
      "=================================================================\n",
      "embedding_8 (Embedding)      (None, 100, 256)          3666432   \n",
      "_________________________________________________________________\n",
      "lstm_3 (LSTM)                (None, 128)               197120    \n",
      "_________________________________________________________________\n",
      "dropout_11 (Dropout)         (None, 128)               0         \n",
      "_________________________________________________________________\n",
      "dense_9 (Dense)              (None, 1)                 129       \n",
      "_________________________________________________________________\n",
      "activation_9 (Activation)    (None, 1)                 0         \n",
      "=================================================================\n",
      "Total params: 3,863,681\n",
      "Trainable params: 3,863,681\n",
      "Non-trainable params: 0\n",
      "_________________________________________________________________\n"
     ]
    }
   ],
   "source": [
    "model.summary()"
   ]
  },
  {
   "cell_type": "code",
   "execution_count": null,
   "metadata": {},
   "outputs": [],
   "source": [
    "from keras.utils import plot_model\n",
    "plot_model(model, to_file='model.png')"
   ]
  },
  {
   "cell_type": "code",
   "execution_count": 48,
   "metadata": {},
   "outputs": [
    {
     "name": "stdout",
     "output_type": "stream",
     "text": [
      "Train on 15000 samples, validate on 6105 samples\n",
      "Epoch 1/30\n",
      "15000/15000 [==============================] - 42s 3ms/step - loss: 0.3647 - acc: 0.8355 - val_loss: 0.2394 - val_acc: 0.9075\n",
      "Epoch 2/30\n",
      "15000/15000 [==============================] - 41s 3ms/step - loss: 0.1418 - acc: 0.9478 - val_loss: 0.2138 - val_acc: 0.9161\n",
      "Epoch 3/30\n",
      "15000/15000 [==============================] - 41s 3ms/step - loss: 0.0523 - acc: 0.9832 - val_loss: 0.2472 - val_acc: 0.9196\n",
      "Epoch 4/30\n",
      "15000/15000 [==============================] - 41s 3ms/step - loss: 0.0234 - acc: 0.9927 - val_loss: 0.3106 - val_acc: 0.9191\n",
      "Epoch 5/30\n",
      "15000/15000 [==============================] - 41s 3ms/step - loss: 0.0128 - acc: 0.9959 - val_loss: 0.3988 - val_acc: 0.9163\n",
      "Epoch 6/30\n",
      "15000/15000 [==============================] - 41s 3ms/step - loss: 0.0149 - acc: 0.9947 - val_loss: 0.4152 - val_acc: 0.9171\n",
      "Epoch 7/30\n",
      "15000/15000 [==============================] - 41s 3ms/step - loss: 0.0155 - acc: 0.9950 - val_loss: 0.4090 - val_acc: 0.9178\n",
      "Epoch 8/30\n",
      "15000/15000 [==============================] - 41s 3ms/step - loss: 0.0096 - acc: 0.9966 - val_loss: 0.4036 - val_acc: 0.9206\n",
      "Epoch 9/30\n",
      "15000/15000 [==============================] - 42s 3ms/step - loss: 0.0081 - acc: 0.9976 - val_loss: 0.5044 - val_acc: 0.9165\n",
      "Epoch 10/30\n",
      "15000/15000 [==============================] - 42s 3ms/step - loss: 0.0076 - acc: 0.9972 - val_loss: 0.5492 - val_acc: 0.9137\n",
      "Epoch 11/30\n",
      "15000/15000 [==============================] - 42s 3ms/step - loss: 0.0109 - acc: 0.9963 - val_loss: 0.4843 - val_acc: 0.9133\n",
      "Epoch 12/30\n",
      "15000/15000 [==============================] - 42s 3ms/step - loss: 0.0055 - acc: 0.9979 - val_loss: 0.5590 - val_acc: 0.9132\n",
      "Epoch 13/30\n",
      "15000/15000 [==============================] - 42s 3ms/step - loss: 0.0038 - acc: 0.9983 - val_loss: 0.6270 - val_acc: 0.9097\n",
      "Epoch 14/30\n",
      "15000/15000 [==============================] - 41s 3ms/step - loss: 0.0048 - acc: 0.9988 - val_loss: 0.6110 - val_acc: 0.9104\n",
      "Epoch 15/30\n",
      "15000/15000 [==============================] - 43s 3ms/step - loss: 0.0069 - acc: 0.9980 - val_loss: 0.6718 - val_acc: 0.9063\n",
      "Epoch 16/30\n",
      "15000/15000 [==============================] - 42s 3ms/step - loss: 0.0122 - acc: 0.9960 - val_loss: 0.5865 - val_acc: 0.9119\n",
      "Epoch 17/30\n",
      "15000/15000 [==============================] - 41s 3ms/step - loss: 0.0037 - acc: 0.9986 - val_loss: 0.6215 - val_acc: 0.9150\n",
      "Epoch 18/30\n",
      "15000/15000 [==============================] - 42s 3ms/step - loss: 0.0032 - acc: 0.9987 - val_loss: 0.6832 - val_acc: 0.9089\n",
      "Epoch 19/30\n",
      "15000/15000 [==============================] - 42s 3ms/step - loss: 0.0048 - acc: 0.9983 - val_loss: 0.6853 - val_acc: 0.8955\n",
      "Epoch 20/30\n",
      "15000/15000 [==============================] - 42s 3ms/step - loss: 0.0059 - acc: 0.9978 - val_loss: 0.6938 - val_acc: 0.9063\n",
      "Epoch 21/30\n",
      "15000/15000 [==============================] - 42s 3ms/step - loss: 0.0037 - acc: 0.9985 - val_loss: 0.7496 - val_acc: 0.9027\n",
      "Epoch 22/30\n",
      "15000/15000 [==============================] - 41s 3ms/step - loss: 0.0050 - acc: 0.9983 - val_loss: 0.8913 - val_acc: 0.8942\n",
      "Epoch 23/30\n",
      "15000/15000 [==============================] - 42s 3ms/step - loss: 0.0085 - acc: 0.9971 - val_loss: 0.7564 - val_acc: 0.8981\n",
      "Epoch 24/30\n",
      "15000/15000 [==============================] - 43s 3ms/step - loss: 0.0023 - acc: 0.9989 - val_loss: 0.7216 - val_acc: 0.9124\n",
      "Epoch 25/30\n",
      "15000/15000 [==============================] - 42s 3ms/step - loss: 0.0037 - acc: 0.9989 - val_loss: 0.8063 - val_acc: 0.9093\n",
      "Epoch 26/30\n",
      "15000/15000 [==============================] - 43s 3ms/step - loss: 0.0036 - acc: 0.9985 - val_loss: 0.8912 - val_acc: 0.8962\n",
      "Epoch 27/30\n",
      "15000/15000 [==============================] - 43s 3ms/step - loss: 0.0052 - acc: 0.9979 - val_loss: 0.7909 - val_acc: 0.9089\n",
      "Epoch 28/30\n",
      "15000/15000 [==============================] - 44s 3ms/step - loss: 0.0027 - acc: 0.9989 - val_loss: 0.7242 - val_acc: 0.9112\n",
      "Epoch 29/30\n",
      "15000/15000 [==============================] - 44s 3ms/step - loss: 0.0023 - acc: 0.9987 - val_loss: 0.8412 - val_acc: 0.9096\n",
      "Epoch 30/30\n",
      "15000/15000 [==============================] - 44s 3ms/step - loss: 0.0021 - acc: 0.9993 - val_loss: 0.8583 - val_acc: 0.9063\n",
      "6105/6105 [==============================] - 1s 229us/step\n"
     ]
    },
    {
     "data": {
      "text/plain": [
       "[0.8582845116424933, 0.9063063063258328]"
      ]
     },
     "execution_count": 48,
     "metadata": {},
     "output_type": "execute_result"
    }
   ],
   "source": [
    "#CNN\n",
    "from keras.layers import Conv1D,GlobalMaxPooling1D\n",
    "\n",
    "model = Sequential()\n",
    "model.add(Embedding(len(abc)+1,128,input_length=maxlen))\n",
    "model.add(Dropout(0.2))\n",
    "model.add(Conv1D(250,\n",
    "                 3,\n",
    "                 padding='valid',\n",
    "                 activation='relu',\n",
    "                 strides=1))\n",
    "model.add(GlobalMaxPooling1D())\n",
    "model.add(Dense(250))\n",
    "model.add(Dropout(0.2))\n",
    "model.add(Activation('relu'))\n",
    "model.add(Dense(1))\n",
    "model.add(Activation('sigmoid'))\n",
    "\n",
    "model.compile(loss='binary_crossentropy',\n",
    "              optimizer='adam',\n",
    "              metrics=['accuracy'])\n",
    "model.fit(x[:train_num], y[:train_num],\n",
    "          batch_size=16,\n",
    "          epochs=30,\n",
    "          validation_data=(x[train_num:], y[train_num:]))\n",
    "model.evaluate(x[train_num:], y[train_num:], batch_size = 16)"
   ]
  },
  {
   "cell_type": "code",
   "execution_count": 52,
   "metadata": {},
   "outputs": [],
   "source": [
    "def predict_one(s): #单个句子的预测函数\n",
    "    s = np.array(doc2num(list(jieba.cut(s)), maxlen))\n",
    "    s = s.reshape((1, s.shape[0]))\n",
    "    return model.predict_classes(s, verbose=0)[0][0]"
   ]
  },
  {
   "cell_type": "code",
   "execution_count": 116,
   "metadata": {},
   "outputs": [
    {
     "data": {
      "text/plain": [
       "0"
      ]
     },
     "execution_count": 116,
     "metadata": {},
     "output_type": "execute_result"
    }
   ],
   "source": [
    "predict_one('态度不是非常差')"
   ]
  },
  {
   "cell_type": "code",
   "execution_count": 58,
   "metadata": {},
   "outputs": [
    {
     "data": {
      "text/plain": [
       "1"
      ]
     },
     "execution_count": 58,
     "metadata": {},
     "output_type": "execute_result"
    }
   ],
   "source": [
    "predict_one('苹果手机就是不好用，不像小米手机，漂亮，功能多，屏幕大，还便宜，超级棒')"
   ]
  },
  {
   "cell_type": "code",
   "execution_count": 86,
   "metadata": {},
   "outputs": [
    {
     "name": "stderr",
     "output_type": "stream",
     "text": [
      "D:\\ProgramData\\Anaconda3\\lib\\site-packages\\ipykernel_launcher.py:2: SettingWithCopyWarning: \n",
      "A value is trying to be set on a copy of a slice from a DataFrame.\n",
      "Try using .loc[row_indexer,col_indexer] = value instead\n",
      "\n",
      "See the caveats in the documentation: http://pandas.pydata.org/pandas-docs/stable/indexing.html#indexing-view-versus-copy\n",
      "  \n"
     ]
    }
   ],
   "source": [
    "from snownlp import SnowNLP\n",
    "all_['sentiment'] = all_[0].apply(lambda s: SnowNLP(s).sentiments) #调用结巴分词"
   ]
  },
  {
   "cell_type": "code",
   "execution_count": 88,
   "metadata": {},
   "outputs": [
    {
     "name": "stderr",
     "output_type": "stream",
     "text": [
      "D:\\ProgramData\\Anaconda3\\lib\\site-packages\\ipykernel_launcher.py:7: SettingWithCopyWarning: \n",
      "A value is trying to be set on a copy of a slice from a DataFrame.\n",
      "Try using .loc[row_indexer,col_indexer] = value instead\n",
      "\n",
      "See the caveats in the documentation: http://pandas.pydata.org/pandas-docs/stable/indexing.html#indexing-view-versus-copy\n",
      "  import sys\n"
     ]
    }
   ],
   "source": [
    "def genScore(x):\n",
    "    if x> 0.5:\n",
    "        return 1\n",
    "    else:\n",
    "        return 0\n",
    "    \n",
    "all_['sentiment'] = all_['sentiment'].map(lambda x: genScore(x))"
   ]
  },
  {
   "cell_type": "code",
   "execution_count": 107,
   "metadata": {},
   "outputs": [
    {
     "name": "stderr",
     "output_type": "stream",
     "text": [
      "D:\\ProgramData\\Anaconda3\\lib\\site-packages\\ipykernel_launcher.py:6: SettingWithCopyWarning: \n",
      "A value is trying to be set on a copy of a slice from a DataFrame.\n",
      "Try using .loc[row_indexer,col_indexer] = value instead\n",
      "\n",
      "See the caveats in the documentation: http://pandas.pydata.org/pandas-docs/stable/indexing.html#indexing-view-versus-copy\n",
      "  \n"
     ]
    }
   ],
   "source": [
    "def genResult(x,y):\n",
    "    if x==y:\n",
    "        return 1\n",
    "    else:\n",
    "        return 0\n",
    "all_['result'] = all_.apply(lambda row: genResult(row['label'], row['sentiment']), axis=1)"
   ]
  },
  {
   "cell_type": "code",
   "execution_count": 108,
   "metadata": {},
   "outputs": [],
   "source": [
    "res = X_test.result.value_counts()"
   ]
  },
  {
   "cell_type": "code",
   "execution_count": 109,
   "metadata": {},
   "outputs": [
    {
     "data": {
      "text/plain": [
       "1    5533\n",
       "0     572\n",
       "Name: result2, dtype: int64"
      ]
     },
     "execution_count": 109,
     "metadata": {},
     "output_type": "execute_result"
    }
   ],
   "source": [
    "res"
   ]
  },
  {
   "cell_type": "code",
   "execution_count": 110,
   "metadata": {},
   "outputs": [
    {
     "name": "stdout",
     "output_type": "stream",
     "text": [
      "SnowNlp acc: 0.9063063063063063\n"
     ]
    }
   ],
   "source": [
    "acc = res[1] / (res[1]+res[0])\n",
    "print(\"SnowNlp acc:\", acc)"
   ]
  },
  {
   "cell_type": "code",
   "execution_count": 111,
   "metadata": {},
   "outputs": [
    {
     "data": {
      "text/plain": [
       "1"
      ]
     },
     "execution_count": 111,
     "metadata": {},
     "output_type": "execute_result"
    }
   ],
   "source": [
    "s = '服务态度好差！'\n",
    "predict_one(s)"
   ]
  },
  {
   "cell_type": "code",
   "execution_count": 112,
   "metadata": {},
   "outputs": [
    {
     "data": {
      "text/plain": [
       "0"
      ]
     },
     "execution_count": 112,
     "metadata": {},
     "output_type": "execute_result"
    }
   ],
   "source": [
    "pos_prob = SnowNLP(s).sentiments\n",
    "genScore(pos_prob)"
   ]
  }
 ],
 "metadata": {
  "kernelspec": {
   "display_name": "Python 3",
   "language": "python",
   "name": "python3"
  },
  "language_info": {
   "codemirror_mode": {
    "name": "ipython",
    "version": 3
   },
   "file_extension": ".py",
   "mimetype": "text/x-python",
   "name": "python",
   "nbconvert_exporter": "python",
   "pygments_lexer": "ipython3",
   "version": "3.6.5"
  }
 },
 "nbformat": 4,
 "nbformat_minor": 2
}
